{
 "cells": [
  {
   "cell_type": "markdown",
   "metadata": {},
   "source": [
    "# Precision and recall"
   ]
  },
  {
   "cell_type": "code",
   "execution_count": 1,
   "metadata": {},
   "outputs": [],
   "source": [
    "import numpy as np\n",
    "from sklearn import datasets"
   ]
  },
  {
   "cell_type": "code",
   "execution_count": 5,
   "metadata": {},
   "outputs": [],
   "source": [
    "digits = datasets.load_digits()\n",
    "X = digits.data\n",
    "y = digits.target.copy() # 要使用深拷贝  \n",
    "\n",
    "y[digits.target == 9] = 1\n",
    "y[digits.target != 9] = 0 # 变成极度偏斜的数据"
   ]
  },
  {
   "cell_type": "code",
   "execution_count": 6,
   "metadata": {},
   "outputs": [],
   "source": [
    "from sklearn.model_selection import train_test_split\n",
    "X_train, X_test, y_train, y_test = train_test_split(X, y, random_state=666)"
   ]
  },
  {
   "cell_type": "code",
   "execution_count": 7,
   "metadata": {},
   "outputs": [
    {
     "data": {
      "text/plain": [
       "0.9755555555555555"
      ]
     },
     "execution_count": 7,
     "metadata": {},
     "output_type": "execute_result"
    }
   ],
   "source": [
    "from sklearn.linear_model import LogisticRegression\n",
    "log_reg = LogisticRegression(solver=\"liblinear\")   # OvR\n",
    "log_reg.fit(X_train, y_train)\n",
    "log_reg.score(X_test, y_test)"
   ]
  },
  {
   "cell_type": "code",
   "execution_count": 8,
   "metadata": {},
   "outputs": [],
   "source": [
    "y_log_predict = log_reg.predict(X_test)"
   ]
  },
  {
   "cell_type": "code",
   "execution_count": 9,
   "metadata": {},
   "outputs": [
    {
     "data": {
      "text/plain": [
       "403"
      ]
     },
     "execution_count": 9,
     "metadata": {},
     "output_type": "execute_result"
    }
   ],
   "source": [
    "def TN(y_true, y_predict):\n",
    "    assert len(y_true) == len(y_predict)\n",
    "    \n",
    "    return np.sum((y_true == 0) & (y_predict == 0))\n",
    "\n",
    "TN(y_test, y_log_predict)"
   ]
  },
  {
   "cell_type": "code",
   "execution_count": 10,
   "metadata": {},
   "outputs": [
    {
     "data": {
      "text/plain": [
       "2"
      ]
     },
     "execution_count": 10,
     "metadata": {},
     "output_type": "execute_result"
    }
   ],
   "source": [
    "def FP(y_true, y_predict):\n",
    "    assert len(y_true) == len(y_predict)\n",
    "    \n",
    "    return np.sum((y_true == 0) & (y_predict == 1))\n",
    "\n",
    "FP(y_test, y_log_predict)\n",
    "    "
   ]
  },
  {
   "cell_type": "code",
   "execution_count": 11,
   "metadata": {},
   "outputs": [
    {
     "data": {
      "text/plain": [
       "36"
      ]
     },
     "execution_count": 11,
     "metadata": {},
     "output_type": "execute_result"
    }
   ],
   "source": [
    "def TP(y_true, y_predict):\n",
    "    assert len(y_true) == len(y_predict)\n",
    "    \n",
    "    return np.sum((y_true == 1) & (y_predict == 1))\n",
    "\n",
    "TP(y_test, y_log_predict)"
   ]
  },
  {
   "cell_type": "code",
   "execution_count": 13,
   "metadata": {},
   "outputs": [
    {
     "data": {
      "text/plain": [
       "9"
      ]
     },
     "execution_count": 13,
     "metadata": {},
     "output_type": "execute_result"
    }
   ],
   "source": [
    "def FN(y_true, y_predict):\n",
    "    assert len(y_true) == len(y_predict)\n",
    "    \n",
    "    return np.sum((y_true == 1) & (y_predict == 0))\n",
    "\n",
    "FN(y_test, y_log_predict)"
   ]
  },
  {
   "cell_type": "code",
   "execution_count": 16,
   "metadata": {},
   "outputs": [
    {
     "data": {
      "text/plain": [
       "array([[403,   2],\n",
       "       [  9,  36]])"
      ]
     },
     "execution_count": 16,
     "metadata": {},
     "output_type": "execute_result"
    }
   ],
   "source": [
    "def confusion_matrix(y_true, y_predict):\n",
    "    return np.array([\n",
    "        [TN(y_test, y_log_predict), FP(y_test, y_log_predict)],\n",
    "        [FN(y_test, y_log_predict), TP(y_test, y_log_predict)]\n",
    "    ])\n",
    "\n",
    "confusion_matrix(y_test, y_log_predict)"
   ]
  },
  {
   "cell_type": "code",
   "execution_count": 19,
   "metadata": {},
   "outputs": [
    {
     "data": {
      "text/plain": [
       "0.9473684210526315"
      ]
     },
     "execution_count": 19,
     "metadata": {},
     "output_type": "execute_result"
    }
   ],
   "source": [
    "def precision_score(y_true, y_predict):\n",
    "    try:\n",
    "        return TP(y_true, y_predict) / (TP(y_true, y_predict) + FP(y_true, y_predict))\n",
    "    except:\n",
    "        return 0.0\n",
    "    \n",
    "precision_score(y_test, y_log_predict)"
   ]
  },
  {
   "cell_type": "code",
   "execution_count": 22,
   "metadata": {},
   "outputs": [
    {
     "data": {
      "text/plain": [
       "0.8"
      ]
     },
     "execution_count": 22,
     "metadata": {},
     "output_type": "execute_result"
    }
   ],
   "source": [
    "def recall_score(y_true, y_predict):\n",
    "    try:\n",
    "        return TP(y_true, y_predict) / (TP(y_true, y_predict) + FN(y_true, y_predict))\n",
    "    except:\n",
    "        return 0.0\n",
    "\n",
    "recall_score(y_test, y_log_predict)"
   ]
  },
  {
   "cell_type": "markdown",
   "metadata": {},
   "source": [
    "# scikit-learn"
   ]
  },
  {
   "cell_type": "code",
   "execution_count": 23,
   "metadata": {},
   "outputs": [
    {
     "data": {
      "text/plain": [
       "array([[403,   2],\n",
       "       [  9,  36]])"
      ]
     },
     "execution_count": 23,
     "metadata": {},
     "output_type": "execute_result"
    }
   ],
   "source": [
    "from sklearn.metrics import confusion_matrix\n",
    "\n",
    "confusion_matrix(y_test, y_log_predict)"
   ]
  },
  {
   "cell_type": "code",
   "execution_count": 25,
   "metadata": {},
   "outputs": [
    {
     "data": {
      "text/plain": [
       "0.9473684210526315"
      ]
     },
     "execution_count": 25,
     "metadata": {},
     "output_type": "execute_result"
    }
   ],
   "source": [
    "from sklearn.metrics import precision_score, recall_score\n",
    "\n",
    "precision_score(y_test, y_log_predict)  #threshold=0"
   ]
  },
  {
   "cell_type": "code",
   "execution_count": 26,
   "metadata": {},
   "outputs": [
    {
     "data": {
      "text/plain": [
       "0.8"
      ]
     },
     "execution_count": 26,
     "metadata": {},
     "output_type": "execute_result"
    }
   ],
   "source": [
    "recall_score(y_test, y_log_predict)"
   ]
  },
  {
   "cell_type": "markdown",
   "metadata": {},
   "source": [
    "# F1"
   ]
  },
  {
   "cell_type": "code",
   "execution_count": 28,
   "metadata": {},
   "outputs": [],
   "source": [
    "def f1_score(precision, recall):\n",
    "    try:\n",
    "        return 2 * precision * recall / (precision + recall)\n",
    "    except:\n",
    "        return 0.0"
   ]
  },
  {
   "cell_type": "code",
   "execution_count": 29,
   "metadata": {},
   "outputs": [
    {
     "data": {
      "text/plain": [
       "0.8674698795180723"
      ]
     },
     "execution_count": 29,
     "metadata": {},
     "output_type": "execute_result"
    }
   ],
   "source": [
    "f1_score(precision_score(y_test, y_log_predict), recall_score(y_test, y_log_predict))"
   ]
  },
  {
   "cell_type": "code",
   "execution_count": 30,
   "metadata": {},
   "outputs": [
    {
     "data": {
      "text/plain": [
       "0.18000000000000002"
      ]
     },
     "execution_count": 30,
     "metadata": {},
     "output_type": "execute_result"
    }
   ],
   "source": [
    "f1_score(0.1, 0.9)"
   ]
  },
  {
   "cell_type": "code",
   "execution_count": 31,
   "metadata": {},
   "outputs": [
    {
     "data": {
      "text/plain": [
       "0.9"
      ]
     },
     "execution_count": 31,
     "metadata": {},
     "output_type": "execute_result"
    }
   ],
   "source": [
    "f1_score(0.9, 0.9)"
   ]
  },
  {
   "cell_type": "code",
   "execution_count": 34,
   "metadata": {},
   "outputs": [
    {
     "data": {
      "text/plain": [
       "0.0"
      ]
     },
     "execution_count": 34,
     "metadata": {},
     "output_type": "execute_result"
    }
   ],
   "source": [
    "f1_score(0, 0.9)"
   ]
  },
  {
   "cell_type": "markdown",
   "metadata": {},
   "source": [
    "# scikit-learn中的f1_score"
   ]
  },
  {
   "cell_type": "code",
   "execution_count": 35,
   "metadata": {},
   "outputs": [],
   "source": [
    "from sklearn.metrics import f1_score"
   ]
  },
  {
   "cell_type": "code",
   "execution_count": 36,
   "metadata": {},
   "outputs": [
    {
     "data": {
      "text/plain": [
       "0.8674698795180723"
      ]
     },
     "execution_count": 36,
     "metadata": {},
     "output_type": "execute_result"
    }
   ],
   "source": [
    "f1_score(y_test, y_log_predict)"
   ]
  },
  {
   "cell_type": "markdown",
   "metadata": {},
   "source": [
    "# P R的平衡  threshold   decision_function"
   ]
  },
  {
   "cell_type": "code",
   "execution_count": 37,
   "metadata": {},
   "outputs": [
    {
     "data": {
      "text/plain": [
       "array([-22.05699096, -33.02939331, -16.21333688, -80.37914686,\n",
       "       -48.25125897, -24.54005571, -44.39169519, -25.04292453,\n",
       "        -0.97829172, -19.71744304, -66.25139392, -51.09599906,\n",
       "       -31.49347879, -46.0533646 , -38.67873948, -29.8047126 ,\n",
       "       -37.58847914, -82.57568795, -37.81903334, -11.0116487 ,\n",
       "        -9.17440207, -85.1300384 , -16.71617306, -46.23723003,\n",
       "        -5.32991673, -47.91762972, -11.66729708, -39.19599958,\n",
       "       -25.25293074, -14.36647194, -16.99783008, -28.91904096,\n",
       "       -34.33939588, -29.47602444,  -7.85812494,  -3.82095286,\n",
       "       -24.08159843, -22.16362887, -33.612166  , -23.14021388,\n",
       "       -26.91803114, -62.38936203, -38.8568801 , -66.77258406,\n",
       "       -20.14481689, -17.47886105, -18.06799437, -22.22224384,\n",
       "       -29.62302884, -19.73172251,   1.49552231,   8.32079843,\n",
       "       -36.29305424, -42.50731378, -25.9045985 , -34.98959353,\n",
       "        -8.42009818, -50.04725799, -51.48207649,  19.88958038,\n",
       "        -8.91887028, -31.9934215 , -11.66097373,  -0.47142501,\n",
       "       -49.16129809, -46.23800911, -25.05391506, -19.61346835,\n",
       "       -36.16658709,  -3.12536008,  -3.91419187, -19.06042424,\n",
       "       -21.03312409, -41.52242863, -12.00623412, -33.89271549,\n",
       "       -35.84801775, -30.60473967, -56.51641462, -18.45470017,\n",
       "         4.51536348, -17.21606521, -76.65095991, -58.54519661,\n",
       "       -31.72089607, -29.9082969 , -33.3189632 ,  -9.08749678,\n",
       "       -47.64450566, -66.15300232, -16.95628137, -22.24903014,\n",
       "       -11.48958496, -18.10557226, -68.65400291, -47.02576589,\n",
       "       -40.11868511, -35.50211209, -17.19765338, -63.10280735,\n",
       "       -16.95443447, -55.10241796, -28.71256338, -68.81580184,\n",
       "       -68.31016716,  -6.2593429 , -25.83999964, -38.0088001 ,\n",
       "       -27.90914203, -15.44710584, -27.45895687, -19.59776452,\n",
       "        12.33461359, -23.03864914, -35.94460672, -30.02830241,\n",
       "       -70.06672722, -29.48726771, -52.98822942, -24.97014707,\n",
       "       -12.32842027, -48.00989185,  -2.4996408 , -59.92449014,\n",
       "       -31.18113337,  -8.65728281, -71.34894848, -57.01115844,\n",
       "       -21.09870295, -21.53853419, -69.34306933, -18.63517664,\n",
       "       -39.91428726, -57.26579071,  -0.84507756, -21.88378863,\n",
       "       -22.64111694, -29.21262057, -35.15695365, -20.25852289,\n",
       "       -11.40289442,   3.87278915,   6.09027763,   1.4289502 ,\n",
       "        -7.82706974, -39.35175387,  12.21054262, -75.10175081,\n",
       "       -75.38159322, -50.41807185, -11.5543951 , -48.45866921,\n",
       "       -75.4407376 , -29.98056636, -64.11578604,  -7.16585142,\n",
       "        -6.52451972, -18.97255972, -33.71614789, -17.76219478,\n",
       "       -45.59378543, -33.53732115, -34.08687604, -73.31508462,\n",
       "       -15.43457241,  12.16748035, -56.45924705,  -6.03196111,\n",
       "       -49.08441747, -16.54210651,  -2.05949754, -11.81039713,\n",
       "       -33.47402275, -50.77177323, -10.62902471, -17.67500293,\n",
       "        -5.07825154, -25.25778691, -16.61515639,   3.91125948,\n",
       "       -46.7559907 , -12.89880024, -25.74789957, -16.3179926 ,\n",
       "       -23.55097152, -83.48234998,  -6.23508267, -19.83968905,\n",
       "       -20.06232831, -26.65463296, -27.11271378, -39.63716183,\n",
       "       -39.81297599, -27.43660086, -24.11826106, -21.24520016,\n",
       "       -10.49821679, -19.39895122, -41.95759793, -43.62361808,\n",
       "       -16.06838613, -64.09610811, -24.75460717, -56.57385477,\n",
       "       -13.50011872, -30.01575266,   3.93719971, -44.71701554,\n",
       "        -8.69365495,   1.58878277,  -2.76246514, -11.9189196 ,\n",
       "         7.58789014,  -7.25884985, -46.73815263, -49.1966041 ,\n",
       "        -4.80423659, -19.61030316, -24.30538413, -48.9879207 ,\n",
       "       -14.98132059, -24.83600336, -16.93955541, -19.46782015,\n",
       "       -15.77205459, -17.00121238, -39.23693801, -31.37455163,\n",
       "        -9.42197488, -71.38159287, -22.17499092, -14.72985481,\n",
       "       -23.57984823, -34.49383065,  -1.17650473, -32.90821829,\n",
       "       -10.82271202, -18.26228993,  -8.29310687, -44.84196794,\n",
       "       -22.59249148, -61.73628858, -47.12973951, -65.62584936,\n",
       "       -33.36438691, -24.0048146 , -29.33165965, -65.22704813,\n",
       "         1.43986706,  -4.56087115, -25.25848229, -22.46483733,\n",
       "       -54.4307268 , -16.8173906 , -11.28766729, -35.25838758,\n",
       "        -5.57318132, -14.93090727, -70.9537157 ,  -6.50504964,\n",
       "        -1.22952057, -37.8754787 , -23.68944862, -68.2996383 ,\n",
       "        14.938037  , -62.55688486,  10.14793541, -24.44797148,\n",
       "       -32.85380487, -14.32957408, -85.68607305, -13.16397901,\n",
       "         9.27786027, -17.32722021, -36.06508892, -17.04717345,\n",
       "       -19.7131298 , -32.72638082,  -5.36344372,   7.68321473,\n",
       "         9.20404658,   5.76533383, -35.96349483, -13.02389889,\n",
       "       -54.87487756, -41.6176459 ,   5.93736612, -79.11921661,\n",
       "       -16.01401255, -19.72190183, -10.96332551, -42.55204875,\n",
       "       -19.70959365, -16.20502926, -18.68732443, -17.94403252,\n",
       "        -7.17461928, -20.5472734 , -16.81070113, -70.69029392,\n",
       "        -9.81778053, -32.87039166, -18.977722  , -21.37930112,\n",
       "       -25.15050115, -17.10982953, -13.52371719, -23.76118937,\n",
       "        11.3650696 , -14.50017513, -33.86302706, -13.71702363,\n",
       "       -50.52173069, -20.26632801, -56.12698635, -29.24271886,\n",
       "       -22.10082923, -31.39321748, -68.99340801, -60.34419034,\n",
       "        14.35287318,   8.69507991, -25.3139795 ,   2.38294986,\n",
       "         5.04572535, -19.56492625, -59.19922824, -10.05789918,\n",
       "       -29.66210548, -27.40193783,   6.13015581, -80.46964754,\n",
       "       -34.87539985, -49.84646205, -36.03964893, -48.50249645,\n",
       "       -19.96808475, -62.05773275,  -3.23794856, -25.32910148,\n",
       "       -65.1403232 ,  -9.4273189 , -23.31746349,  19.38627849,\n",
       "       -18.84544577,  -4.47308483, -13.77209458, -21.88092351,\n",
       "       -43.41394097, -51.85062119, -28.83914714, -13.90474931,\n",
       "        -2.51951923,  -6.16017522,   3.14868575, -15.33994873,\n",
       "       -41.1662833 , -25.8974607 ,  14.3019697 , -17.88817182,\n",
       "        14.67464279, -33.65790632,   4.82447831, -14.42659948,\n",
       "       -54.22944599, -50.49127791, -30.54684963, -38.72564667,\n",
       "       -23.46178187, -24.87718809, -14.50556337, -23.72454889,\n",
       "       -28.07008185, -19.63715717, -28.66184035, -20.37691718,\n",
       "       -32.1674699 , -11.15574567, -17.95924402, -24.54355111,\n",
       "       -24.60831622,  10.73691765, -16.6857959 , -38.50775878,\n",
       "       -15.87672418, -37.05240824, -15.79369143, -68.69483325,\n",
       "       -33.6481067 , -43.60838007, -28.7475135 ,  -9.88987914,\n",
       "       -67.1645286 , -33.49884078, -45.89914467, -14.36736822,\n",
       "       -38.2899293 , -14.76246392, -70.44233117, -11.19630053,\n",
       "       -41.46526252, -32.3898764 , -20.86068886, -27.68980595,\n",
       "       -16.06078054, -31.96316502,  -8.4842125 , -22.10450575,\n",
       "       -34.06026184, -12.47052382, -36.15119926, -36.57958777,\n",
       "       -22.46157357,   4.47539491, -20.80766676,  -3.75030894,\n",
       "       -20.31646301, -32.67826872, -41.1070772 , -25.46018191,\n",
       "       -19.73666982, -47.83297771, -29.8578262 , -45.24586156,\n",
       "       -71.6570183 ,  -5.93563057, -32.93704382,   1.89665395,\n",
       "        11.76386559,   7.3578242 , -30.93185671, -63.94239117,\n",
       "       -23.41433671,  -5.43422058, -33.46409318, -24.1126752 ,\n",
       "       -67.49717786, -34.30054806, -34.23319507, -31.61586102,\n",
       "       -52.86792937, -22.89219609,  -8.16021199, -17.73973752,\n",
       "       -26.98681771, -32.38763415, -28.96085401, -67.25180689,\n",
       "       -46.49549587, -16.11284953])"
      ]
     },
     "execution_count": 37,
     "metadata": {},
     "output_type": "execute_result"
    }
   ],
   "source": [
    "log_reg.decision_function(X_test)"
   ]
  },
  {
   "cell_type": "code",
   "execution_count": 38,
   "metadata": {},
   "outputs": [
    {
     "data": {
      "text/plain": [
       "array([-22.05699096, -33.02939331, -16.21333688, -80.37914686,\n",
       "       -48.25125897, -24.54005571, -44.39169519, -25.04292453,\n",
       "        -0.97829172, -19.71744304])"
      ]
     },
     "execution_count": 38,
     "metadata": {},
     "output_type": "execute_result"
    }
   ],
   "source": [
    "log_reg.decision_function(X_test)[:10]"
   ]
  },
  {
   "cell_type": "code",
   "execution_count": 39,
   "metadata": {},
   "outputs": [
    {
     "data": {
      "text/plain": [
       "array([0, 0, 0, 0, 0, 0, 0, 0, 0, 0])"
      ]
     },
     "execution_count": 39,
     "metadata": {},
     "output_type": "execute_result"
    }
   ],
   "source": [
    "log_reg.predict(X_test)[:10]"
   ]
  },
  {
   "cell_type": "code",
   "execution_count": 40,
   "metadata": {},
   "outputs": [],
   "source": [
    "decision_scores = log_reg.decision_function(X_test)   # 决策边界的距离"
   ]
  },
  {
   "cell_type": "code",
   "execution_count": 59,
   "metadata": {},
   "outputs": [
    {
     "data": {
      "text/plain": [
       "(450, 64)"
      ]
     },
     "execution_count": 59,
     "metadata": {},
     "output_type": "execute_result"
    }
   ],
   "source": [
    "X_test.shape"
   ]
  },
  {
   "cell_type": "code",
   "execution_count": 58,
   "metadata": {},
   "outputs": [
    {
     "data": {
      "text/plain": [
       "(450,)"
      ]
     },
     "execution_count": 58,
     "metadata": {},
     "output_type": "execute_result"
    }
   ],
   "source": [
    "decision_scores.shape"
   ]
  },
  {
   "cell_type": "code",
   "execution_count": 41,
   "metadata": {},
   "outputs": [
    {
     "data": {
      "text/plain": [
       "-27.34920348385664"
      ]
     },
     "execution_count": 41,
     "metadata": {},
     "output_type": "execute_result"
    }
   ],
   "source": [
    "np.mean(decision_scores)"
   ]
  },
  {
   "cell_type": "code",
   "execution_count": 42,
   "metadata": {},
   "outputs": [
    {
     "data": {
      "text/plain": [
       "-85.68607304951716"
      ]
     },
     "execution_count": 42,
     "metadata": {},
     "output_type": "execute_result"
    }
   ],
   "source": [
    "np.min(decision_scores)"
   ]
  },
  {
   "cell_type": "code",
   "execution_count": 43,
   "metadata": {},
   "outputs": [
    {
     "data": {
      "text/plain": [
       "19.889580375580753"
      ]
     },
     "execution_count": 43,
     "metadata": {},
     "output_type": "execute_result"
    }
   ],
   "source": [
    "np.max(decision_scores)"
   ]
  },
  {
   "cell_type": "code",
   "execution_count": 44,
   "metadata": {},
   "outputs": [],
   "source": [
    "y_predict2 = np.array(decision_scores >= 5, dtype=\"int\") #threshold>0"
   ]
  },
  {
   "cell_type": "code",
   "execution_count": 45,
   "metadata": {},
   "outputs": [
    {
     "data": {
      "text/plain": [
       "array([0, 0, 0, 0, 0, 0, 0, 0, 0, 0, 0, 0, 0, 0, 0, 0, 0, 0, 0, 0, 0, 0,\n",
       "       0, 0, 0, 0, 0, 0, 0, 0, 0, 0, 0, 0, 0, 0, 0, 0, 0, 0, 0, 0, 0, 0,\n",
       "       0, 0, 0, 0, 0, 0, 0, 1, 0, 0, 0, 0, 0, 0, 0, 1, 0, 0, 0, 0, 0, 0,\n",
       "       0, 0, 0, 0, 0, 0, 0, 0, 0, 0, 0, 0, 0, 0, 0, 0, 0, 0, 0, 0, 0, 0,\n",
       "       0, 0, 0, 0, 0, 0, 0, 0, 0, 0, 0, 0, 0, 0, 0, 0, 0, 0, 0, 0, 0, 0,\n",
       "       0, 0, 1, 0, 0, 0, 0, 0, 0, 0, 0, 0, 0, 0, 0, 0, 0, 0, 0, 0, 0, 0,\n",
       "       0, 0, 0, 0, 0, 0, 0, 0, 0, 0, 1, 0, 0, 0, 1, 0, 0, 0, 0, 0, 0, 0,\n",
       "       0, 0, 0, 0, 0, 0, 0, 0, 0, 0, 0, 1, 0, 0, 0, 0, 0, 0, 0, 0, 0, 0,\n",
       "       0, 0, 0, 0, 0, 0, 0, 0, 0, 0, 0, 0, 0, 0, 0, 0, 0, 0, 0, 0, 0, 0,\n",
       "       0, 0, 0, 0, 0, 0, 0, 0, 0, 0, 0, 0, 0, 0, 1, 0, 0, 0, 0, 0, 0, 0,\n",
       "       0, 0, 0, 0, 0, 0, 0, 0, 0, 0, 0, 0, 0, 0, 0, 0, 0, 0, 0, 0, 0, 0,\n",
       "       0, 0, 0, 0, 0, 0, 0, 0, 0, 0, 0, 0, 0, 0, 0, 0, 0, 0, 0, 0, 0, 0,\n",
       "       1, 0, 1, 0, 0, 0, 0, 0, 1, 0, 0, 0, 0, 0, 0, 1, 1, 1, 0, 0, 0, 0,\n",
       "       1, 0, 0, 0, 0, 0, 0, 0, 0, 0, 0, 0, 0, 0, 0, 0, 0, 0, 0, 0, 0, 0,\n",
       "       1, 0, 0, 0, 0, 0, 0, 0, 0, 0, 0, 0, 1, 1, 0, 0, 1, 0, 0, 0, 0, 0,\n",
       "       1, 0, 0, 0, 0, 0, 0, 0, 0, 0, 0, 0, 0, 1, 0, 0, 0, 0, 0, 0, 0, 0,\n",
       "       0, 0, 0, 0, 0, 0, 1, 0, 1, 0, 0, 0, 0, 0, 0, 0, 0, 0, 0, 0, 0, 0,\n",
       "       0, 0, 0, 0, 0, 0, 0, 1, 0, 0, 0, 0, 0, 0, 0, 0, 0, 0, 0, 0, 0, 0,\n",
       "       0, 0, 0, 0, 0, 0, 0, 0, 0, 0, 0, 0, 0, 0, 0, 0, 0, 0, 0, 0, 0, 0,\n",
       "       0, 0, 0, 0, 0, 0, 0, 0, 0, 0, 1, 1, 0, 0, 0, 0, 0, 0, 0, 0, 0, 0,\n",
       "       0, 0, 0, 0, 0, 0, 0, 0, 0, 0])"
      ]
     },
     "execution_count": 45,
     "metadata": {},
     "output_type": "execute_result"
    }
   ],
   "source": [
    "y_predict2"
   ]
  },
  {
   "cell_type": "code",
   "execution_count": 46,
   "metadata": {},
   "outputs": [
    {
     "data": {
      "text/plain": [
       "array([[404,   1],\n",
       "       [ 21,  24]])"
      ]
     },
     "execution_count": 46,
     "metadata": {},
     "output_type": "execute_result"
    }
   ],
   "source": [
    "confusion_matrix(y_test, y_predict2)"
   ]
  },
  {
   "cell_type": "code",
   "execution_count": 47,
   "metadata": {},
   "outputs": [
    {
     "data": {
      "text/plain": [
       "0.96"
      ]
     },
     "execution_count": 47,
     "metadata": {},
     "output_type": "execute_result"
    }
   ],
   "source": [
    "precision_score(y_test, y_predict2)"
   ]
  },
  {
   "cell_type": "code",
   "execution_count": 48,
   "metadata": {},
   "outputs": [
    {
     "data": {
      "text/plain": [
       "0.5333333333333333"
      ]
     },
     "execution_count": 48,
     "metadata": {},
     "output_type": "execute_result"
    }
   ],
   "source": [
    "recall_score(y_test, y_predict2)"
   ]
  },
  {
   "cell_type": "code",
   "execution_count": 49,
   "metadata": {},
   "outputs": [],
   "source": [
    "y_predict3 = np.array(decision_scores >= -5, dtype=\"int\")  #threshold<0"
   ]
  },
  {
   "cell_type": "code",
   "execution_count": 50,
   "metadata": {},
   "outputs": [
    {
     "data": {
      "text/plain": [
       "array([[390,  15],\n",
       "       [  5,  40]])"
      ]
     },
     "execution_count": 50,
     "metadata": {},
     "output_type": "execute_result"
    }
   ],
   "source": [
    "confusion_matrix(y_test, y_predict3)"
   ]
  },
  {
   "cell_type": "code",
   "execution_count": 53,
   "metadata": {},
   "outputs": [
    {
     "data": {
      "text/plain": [
       "0.7272727272727273"
      ]
     },
     "execution_count": 53,
     "metadata": {},
     "output_type": "execute_result"
    }
   ],
   "source": [
    "precision_score(y_test, y_predict3)"
   ]
  },
  {
   "cell_type": "code",
   "execution_count": 52,
   "metadata": {},
   "outputs": [
    {
     "data": {
      "text/plain": [
       "0.8888888888888888"
      ]
     },
     "execution_count": 52,
     "metadata": {},
     "output_type": "execute_result"
    }
   ],
   "source": [
    "recall_score(y_test, y_predict3)"
   ]
  },
  {
   "cell_type": "markdown",
   "metadata": {},
   "source": [
    "# p-r curve"
   ]
  },
  {
   "cell_type": "code",
   "execution_count": 77,
   "metadata": {},
   "outputs": [
    {
     "data": {
      "image/png": "[encoded data removed]",
      "text/plain": [
       "<Figure size 432x288 with 1 Axes>"
      ]
     },
     "metadata": {
      "needs_background": "light"
     },
     "output_type": "display_data"
    }
   ],
   "source": [
    "import matplotlib.pyplot as plt\n",
    "precisions = []\n",
    "recalls = []\n",
    "thresholds = np.arange(np.min(decision_scores), np.max(decision_scores), 0.1)\n",
    "for threshold in thresholds:\n",
    "    y_predict = np.array(decision_scores >= threshold, dtype=\"int\")\n",
    "    precisions.append(precision_score(y_test, y_predict))\n",
    "    recalls.append(recall_score(y_test, y_predict))\n",
    "    \n",
    "plt.plot(thresholds, precisions, label=\"precisions\")\n",
    "plt.plot(thresholds, recalls, label=\"recalls\")\n",
    "plt.legend()\n",
    "plt.xlabel(\"thresholds\")\n",
    "plt.show()"
   ]
  },
  {
   "cell_type": "code",
   "execution_count": 67,
   "metadata": {},
   "outputs": [
    {
     "data": {
      "image/png": "[encoded data removed]",
      "text/plain": [
       "<Figure size 432x288 with 1 Axes>"
      ]
     },
     "metadata": {
      "needs_background": "light"
     },
     "output_type": "display_data"
    }
   ],
   "source": [
    "plt.plot(precisions, recalls)\n",
    "plt.xlabel(\"precisions\")\n",
    "plt.ylabel(\"recalls\")\n",
    "plt.show()\n",
    "# 开始急剧下降的点接近平衡点"
   ]
  },
  {
   "cell_type": "markdown",
   "metadata": {},
   "source": [
    "# scikit-learn中的P-R曲线"
   ]
  },
  {
   "cell_type": "code",
   "execution_count": 79,
   "metadata": {},
   "outputs": [],
   "source": [
    "from sklearn.metrics import precision_recall_curve\n",
    "\n",
    "precisions, recalls, thresholds = precision_recall_curve(y_test, decision_scores)"
   ]
  },
  {
   "cell_type": "code",
   "execution_count": 80,
   "metadata": {},
   "outputs": [
    {
     "data": {
      "text/plain": [
       "(145,)"
      ]
     },
     "execution_count": 80,
     "metadata": {},
     "output_type": "execute_result"
    }
   ],
   "source": [
    "precisions.shape"
   ]
  },
  {
   "cell_type": "code",
   "execution_count": 81,
   "metadata": {},
   "outputs": [
    {
     "data": {
      "text/plain": [
       "(145,)"
      ]
     },
     "execution_count": 81,
     "metadata": {},
     "output_type": "execute_result"
    }
   ],
   "source": [
    "recalls.shape"
   ]
  },
  {
   "cell_type": "code",
   "execution_count": 82,
   "metadata": {},
   "outputs": [
    {
     "data": {
      "text/plain": [
       "(144,)"
      ]
     },
     "execution_count": 82,
     "metadata": {},
     "output_type": "execute_result"
    }
   ],
   "source": [
    "thresholds.shape  # the last precision and recall values are 1 and 0. do not have a corresponding threshold"
   ]
  },
  {
   "cell_type": "code",
   "execution_count": 83,
   "metadata": {},
   "outputs": [
    {
     "data": {
      "image/png": "[encoded data removed]",
      "text/plain": [
       "<Figure size 432x288 with 1 Axes>"
      ]
     },
     "metadata": {
      "needs_background": "light"
     },
     "output_type": "display_data"
    }
   ],
   "source": [
    "plt.plot(thresholds, precisions[:-1], label=\"precisions\")\n",
    "plt.plot(thresholds, recalls[:-1], label=\"recalls\")\n",
    "plt.xlabel(\"thresholds\")\n",
    "plt.legend()\n",
    "plt.show()"
   ]
  },
  {
   "cell_type": "code",
   "execution_count": 84,
   "metadata": {},
   "outputs": [
    {
     "data": {
      "image/png": "[encoded data removed]",
      "text/plain": [
       "<Figure size 432x288 with 1 Axes>"
      ]
     },
     "metadata": {
      "needs_background": "light"
     },
     "output_type": "display_data"
    }
   ],
   "source": [
    "plt.plot(precisions, recalls)\n",
    "plt.xlabel(\"precisions\")\n",
    "plt.ylabel(\"recalls\")\n",
    "plt.show()\n",
    "# 开始急剧下降的点接近平衡点"
   ]
  },
  {
   "cell_type": "markdown",
   "metadata": {},
   "source": [
    "# 可以比较不同模型的PR曲线，用面积来看，面积越大认为模型越好"
   ]
  },
  {
   "cell_type": "markdown",
   "metadata": {},
   "source": [
    "# ===================================================="
   ]
  },
  {
   "cell_type": "markdown",
   "metadata": {},
   "source": [
    "# ROC : receriver operation characteristic curve:用于比较两个模型孰优孰劣"
   ]
  },
  {
   "cell_type": "code",
   "execution_count": 85,
   "metadata": {},
   "outputs": [],
   "source": [
    "from my_ml.metrics import FPR, TPR"
   ]
  },
  {
   "cell_type": "code",
   "execution_count": 86,
   "metadata": {},
   "outputs": [],
   "source": [
    "fprs = []\n",
    "tprs = []\n",
    "thresholds = np.arange(np.min(decision_scores), np.max(decision_scores), 0.1)\n",
    "for threshold in thresholds:\n",
    "    y_predict = np.array(decision_scores >= threshold, dtype=\"int\")\n",
    "    fprs.append(FPR(y_test, y_predict))\n",
    "    tprs.append(TPR(y_test, y_predict))\n",
    "    "
   ]
  },
  {
   "cell_type": "code",
   "execution_count": 87,
   "metadata": {},
   "outputs": [
    {
     "data": {
      "image/png": "[encoded data removed]",
      "text/plain": [
       "<Figure size 432x288 with 1 Axes>"
      ]
     },
     "metadata": {
      "needs_background": "light"
     },
     "output_type": "display_data"
    }
   ],
   "source": [
    "plt.plot(fprs, tprs)\n",
    "plt.show()"
   ]
  },
  {
   "cell_type": "markdown",
   "metadata": {},
   "source": [
    "# scikit-learn中的ROC"
   ]
  },
  {
   "cell_type": "code",
   "execution_count": 91,
   "metadata": {},
   "outputs": [],
   "source": [
    "from sklearn.metrics import roc_curve\n",
    "\n",
    "fprs, tprs, thresholds = roc_curve(y_test, decision_scores)"
   ]
  },
  {
   "cell_type": "code",
   "execution_count": 92,
   "metadata": {},
   "outputs": [
    {
     "data": {
      "image/png": "[encoded data removed]",
      "text/plain": [
       "<Figure size 432x288 with 1 Axes>"
      ]
     },
     "metadata": {
      "needs_background": "light"
     },
     "output_type": "display_data"
    }
   ],
   "source": [
    "plt.plot(fprs, tprs)\n",
    "plt.show()"
   ]
  },
  {
   "cell_type": "code",
   "execution_count": 93,
   "metadata": {},
   "outputs": [
    {
     "data": {
      "text/plain": [
       "0.9830452674897119"
      ]
     },
     "execution_count": 93,
     "metadata": {},
     "output_type": "execute_result"
    }
   ],
   "source": [
    "# 求面积\n",
    "from sklearn.metrics import roc_auc_score\n",
    "\n",
    "roc_auc_score(y_test, decision_scores)"
   ]
  },
  {
   "cell_type": "code",
   "execution_count": null,
   "metadata": {},
   "outputs": [],
   "source": []
  }
 ],
 "metadata": {
  "kernelspec": {
   "display_name": "Python 3",
   "language": "python",
   "name": "python3"
  },
  "language_info": {
   "codemirror_mode": {
    "name": "ipython",
    "version": 3
   },
   "file_extension": ".py",
   "mimetype": "text/x-python",
   "name": "python",
   "nbconvert_exporter": "python",
   "pygments_lexer": "ipython3",
   "version": "3.6.12"
  }
 },
 "nbformat": 4,
 "nbformat_minor": 4
}
