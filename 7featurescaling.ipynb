{
 "cells": [
  {
   "cell_type": "code",
   "execution_count": 1,
   "metadata": {},
   "outputs": [],
   "source": [
    "import numpy as np"
   ]
  },
  {
   "cell_type": "markdown",
   "metadata": {},
   "source": [
    "# normalization"
   ]
  },
  {
   "cell_type": "code",
   "execution_count": 2,
   "metadata": {},
   "outputs": [],
   "source": [
    "x = np.random.randint(0, 100, size=100)"
   ]
  },
  {
   "cell_type": "code",
   "execution_count": 3,
   "metadata": {},
   "outputs": [
    {
     "data": {
      "text/plain": [
       "array([11, 42, 58, 78,  1, 93, 88, 43, 88, 27, 53, 48, 39, 41, 10, 99, 11,\n",
       "       32, 49, 33, 60, 50,  5, 85, 58, 87, 30, 76, 91, 20, 96, 48, 37, 11,\n",
       "       19,  6, 31, 57, 45, 62, 75, 78, 10, 74, 90, 72,  8, 13,  8, 90,  1,\n",
       "       98, 67, 14, 58,  4, 92, 89, 18, 60, 12, 83, 37, 25, 39, 29, 83, 86,\n",
       "       27, 48, 73, 24, 21, 79, 59, 76,  8, 89, 11, 80, 18, 40,  3, 12, 61,\n",
       "       92, 63, 22,  4, 91, 24, 14, 23, 51, 33, 97, 25, 55, 97, 61])"
      ]
     },
     "execution_count": 3,
     "metadata": {},
     "output_type": "execute_result"
    }
   ],
   "source": [
    "x"
   ]
  },
  {
   "cell_type": "code",
   "execution_count": 4,
   "metadata": {},
   "outputs": [],
   "source": [
    "x_scale = (x - np.min(x))/(np.max(x)-np.min(x))"
   ]
  },
  {
   "cell_type": "code",
   "execution_count": 5,
   "metadata": {},
   "outputs": [
    {
     "data": {
      "text/plain": [
       "array([0.10204082, 0.41836735, 0.58163265, 0.78571429, 0.        ,\n",
       "       0.93877551, 0.8877551 , 0.42857143, 0.8877551 , 0.26530612,\n",
       "       0.53061224, 0.47959184, 0.3877551 , 0.40816327, 0.09183673,\n",
       "       1.        , 0.10204082, 0.31632653, 0.48979592, 0.32653061,\n",
       "       0.60204082, 0.5       , 0.04081633, 0.85714286, 0.58163265,\n",
       "       0.87755102, 0.29591837, 0.76530612, 0.91836735, 0.19387755,\n",
       "       0.96938776, 0.47959184, 0.36734694, 0.10204082, 0.18367347,\n",
       "       0.05102041, 0.30612245, 0.57142857, 0.44897959, 0.62244898,\n",
       "       0.75510204, 0.78571429, 0.09183673, 0.74489796, 0.90816327,\n",
       "       0.7244898 , 0.07142857, 0.12244898, 0.07142857, 0.90816327,\n",
       "       0.        , 0.98979592, 0.67346939, 0.13265306, 0.58163265,\n",
       "       0.03061224, 0.92857143, 0.89795918, 0.17346939, 0.60204082,\n",
       "       0.1122449 , 0.83673469, 0.36734694, 0.24489796, 0.3877551 ,\n",
       "       0.28571429, 0.83673469, 0.86734694, 0.26530612, 0.47959184,\n",
       "       0.73469388, 0.23469388, 0.20408163, 0.79591837, 0.59183673,\n",
       "       0.76530612, 0.07142857, 0.89795918, 0.10204082, 0.80612245,\n",
       "       0.17346939, 0.39795918, 0.02040816, 0.1122449 , 0.6122449 ,\n",
       "       0.92857143, 0.63265306, 0.21428571, 0.03061224, 0.91836735,\n",
       "       0.23469388, 0.13265306, 0.2244898 , 0.51020408, 0.32653061,\n",
       "       0.97959184, 0.24489796, 0.55102041, 0.97959184, 0.6122449 ])"
      ]
     },
     "execution_count": 5,
     "metadata": {},
     "output_type": "execute_result"
    }
   ],
   "source": [
    "x_scale"
   ]
  },
  {
   "cell_type": "code",
   "execution_count": 6,
   "metadata": {},
   "outputs": [],
   "source": [
    "X = np.random.randint(0, 100, (50, 2))"
   ]
  },
  {
   "cell_type": "code",
   "execution_count": 7,
   "metadata": {},
   "outputs": [
    {
     "data": {
      "text/plain": [
       "array([[ 7, 20],\n",
       "       [44,  6],\n",
       "       [22, 14],\n",
       "       [86, 47],\n",
       "       [62, 95],\n",
       "       [91, 58],\n",
       "       [99, 87],\n",
       "       [79, 11],\n",
       "       [16, 46],\n",
       "       [40,  6],\n",
       "       [43, 61],\n",
       "       [32, 74],\n",
       "       [66, 69],\n",
       "       [77, 37],\n",
       "       [57,  8],\n",
       "       [70, 52],\n",
       "       [26, 12],\n",
       "       [28, 27],\n",
       "       [85, 20],\n",
       "       [54,  2],\n",
       "       [ 8, 55],\n",
       "       [34, 27],\n",
       "       [56, 16],\n",
       "       [64, 89],\n",
       "       [69,  1],\n",
       "       [42, 71],\n",
       "       [86, 14],\n",
       "       [52, 55],\n",
       "       [57,  7],\n",
       "       [19, 93],\n",
       "       [41, 35],\n",
       "       [89, 46],\n",
       "       [ 4, 59],\n",
       "       [ 3, 75],\n",
       "       [17, 70],\n",
       "       [48, 97],\n",
       "       [ 5,  4],\n",
       "       [13, 16],\n",
       "       [86, 61],\n",
       "       [76, 17],\n",
       "       [ 2, 46],\n",
       "       [25, 76],\n",
       "       [56, 74],\n",
       "       [39, 51],\n",
       "       [74, 31],\n",
       "       [31, 87],\n",
       "       [67, 75],\n",
       "       [75, 46],\n",
       "       [56, 54],\n",
       "       [31, 63]])"
      ]
     },
     "execution_count": 7,
     "metadata": {},
     "output_type": "execute_result"
    }
   ],
   "source": [
    "X"
   ]
  },
  {
   "cell_type": "code",
   "execution_count": 8,
   "metadata": {},
   "outputs": [],
   "source": [
    "X = np.array(X, dtype=float)"
   ]
  },
  {
   "cell_type": "code",
   "execution_count": 9,
   "metadata": {},
   "outputs": [
    {
     "data": {
      "text/plain": [
       "array([[ 7., 20.],\n",
       "       [44.,  6.],\n",
       "       [22., 14.],\n",
       "       [86., 47.],\n",
       "       [62., 95.],\n",
       "       [91., 58.],\n",
       "       [99., 87.],\n",
       "       [79., 11.],\n",
       "       [16., 46.],\n",
       "       [40.,  6.],\n",
       "       [43., 61.],\n",
       "       [32., 74.],\n",
       "       [66., 69.],\n",
       "       [77., 37.],\n",
       "       [57.,  8.],\n",
       "       [70., 52.],\n",
       "       [26., 12.],\n",
       "       [28., 27.],\n",
       "       [85., 20.],\n",
       "       [54.,  2.],\n",
       "       [ 8., 55.],\n",
       "       [34., 27.],\n",
       "       [56., 16.],\n",
       "       [64., 89.],\n",
       "       [69.,  1.],\n",
       "       [42., 71.],\n",
       "       [86., 14.],\n",
       "       [52., 55.],\n",
       "       [57.,  7.],\n",
       "       [19., 93.],\n",
       "       [41., 35.],\n",
       "       [89., 46.],\n",
       "       [ 4., 59.],\n",
       "       [ 3., 75.],\n",
       "       [17., 70.],\n",
       "       [48., 97.],\n",
       "       [ 5.,  4.],\n",
       "       [13., 16.],\n",
       "       [86., 61.],\n",
       "       [76., 17.],\n",
       "       [ 2., 46.],\n",
       "       [25., 76.],\n",
       "       [56., 74.],\n",
       "       [39., 51.],\n",
       "       [74., 31.],\n",
       "       [31., 87.],\n",
       "       [67., 75.],\n",
       "       [75., 46.],\n",
       "       [56., 54.],\n",
       "       [31., 63.]])"
      ]
     },
     "execution_count": 9,
     "metadata": {},
     "output_type": "execute_result"
    }
   ],
   "source": [
    "X"
   ]
  },
  {
   "cell_type": "code",
   "execution_count": 10,
   "metadata": {},
   "outputs": [],
   "source": [
    "X[:, 0] = (X[:, 0] - np.min(X[:, 0])) / (np.max(X[:, 0] - np.min(X[:, 0])))"
   ]
  },
  {
   "cell_type": "code",
   "execution_count": 11,
   "metadata": {},
   "outputs": [],
   "source": [
    "X[:, 1] = (X[:, 1] - np.min(X[:, 1])) / (np.max(X[:, 1] - np.min(X[:, 1])))"
   ]
  },
  {
   "cell_type": "code",
   "execution_count": 12,
   "metadata": {},
   "outputs": [
    {
     "data": {
      "text/plain": [
       "array([[0.05154639, 0.19791667],\n",
       "       [0.43298969, 0.05208333],\n",
       "       [0.20618557, 0.13541667],\n",
       "       [0.86597938, 0.47916667],\n",
       "       [0.6185567 , 0.97916667],\n",
       "       [0.91752577, 0.59375   ],\n",
       "       [1.        , 0.89583333],\n",
       "       [0.79381443, 0.10416667],\n",
       "       [0.1443299 , 0.46875   ],\n",
       "       [0.39175258, 0.05208333],\n",
       "       [0.42268041, 0.625     ],\n",
       "       [0.30927835, 0.76041667],\n",
       "       [0.65979381, 0.70833333],\n",
       "       [0.77319588, 0.375     ],\n",
       "       [0.56701031, 0.07291667],\n",
       "       [0.70103093, 0.53125   ],\n",
       "       [0.24742268, 0.11458333],\n",
       "       [0.26804124, 0.27083333],\n",
       "       [0.8556701 , 0.19791667],\n",
       "       [0.53608247, 0.01041667],\n",
       "       [0.06185567, 0.5625    ],\n",
       "       [0.32989691, 0.27083333],\n",
       "       [0.55670103, 0.15625   ],\n",
       "       [0.63917526, 0.91666667],\n",
       "       [0.69072165, 0.        ],\n",
       "       [0.41237113, 0.72916667],\n",
       "       [0.86597938, 0.13541667],\n",
       "       [0.51546392, 0.5625    ],\n",
       "       [0.56701031, 0.0625    ],\n",
       "       [0.17525773, 0.95833333],\n",
       "       [0.40206186, 0.35416667],\n",
       "       [0.89690722, 0.46875   ],\n",
       "       [0.02061856, 0.60416667],\n",
       "       [0.01030928, 0.77083333],\n",
       "       [0.15463918, 0.71875   ],\n",
       "       [0.4742268 , 1.        ],\n",
       "       [0.03092784, 0.03125   ],\n",
       "       [0.11340206, 0.15625   ],\n",
       "       [0.86597938, 0.625     ],\n",
       "       [0.7628866 , 0.16666667],\n",
       "       [0.        , 0.46875   ],\n",
       "       [0.2371134 , 0.78125   ],\n",
       "       [0.55670103, 0.76041667],\n",
       "       [0.3814433 , 0.52083333],\n",
       "       [0.74226804, 0.3125    ],\n",
       "       [0.29896907, 0.89583333],\n",
       "       [0.67010309, 0.77083333],\n",
       "       [0.75257732, 0.46875   ],\n",
       "       [0.55670103, 0.55208333],\n",
       "       [0.29896907, 0.64583333]])"
      ]
     },
     "execution_count": 12,
     "metadata": {},
     "output_type": "execute_result"
    }
   ],
   "source": [
    "X"
   ]
  },
  {
   "cell_type": "code",
   "execution_count": 13,
   "metadata": {},
   "outputs": [],
   "source": [
    "import matplotlib.pyplot as plt"
   ]
  },
  {
   "cell_type": "code",
   "execution_count": 14,
   "metadata": {},
   "outputs": [
    {
     "data": {
      "image/png": "[encoded data removed]",
      "text/plain": [
       "<Figure size 432x288 with 1 Axes>"
      ]
     },
     "metadata": {
      "needs_background": "light"
     },
     "output_type": "display_data"
    }
   ],
   "source": [
    "plt.scatter(X[:, 0], X[:, 1])\n",
    "plt.show()"
   ]
  },
  {
   "cell_type": "code",
   "execution_count": 17,
   "metadata": {},
   "outputs": [
    {
     "data": {
      "text/plain": [
       "0.46104166666666657"
      ]
     },
     "execution_count": 17,
     "metadata": {},
     "output_type": "execute_result"
    }
   ],
   "source": [
    "np.mean(X[:, 1])"
   ]
  },
  {
   "cell_type": "code",
   "execution_count": 18,
   "metadata": {},
   "outputs": [
    {
     "data": {
      "text/plain": [
       "0.29856289177863715"
      ]
     },
     "execution_count": 18,
     "metadata": {},
     "output_type": "execute_result"
    }
   ],
   "source": [
    "np.std(X[:, 1])"
   ]
  },
  {
   "cell_type": "markdown",
   "metadata": {},
   "source": [
    "# Standardization"
   ]
  },
  {
   "cell_type": "code",
   "execution_count": 19,
   "metadata": {},
   "outputs": [],
   "source": [
    "X2 = np.random.randint(0, 100, (50, 2))"
   ]
  },
  {
   "cell_type": "code",
   "execution_count": 20,
   "metadata": {},
   "outputs": [
    {
     "data": {
      "text/plain": [
       "array([[ 7, 23],\n",
       "       [94, 12],\n",
       "       [14, 73],\n",
       "       [ 5,  7],\n",
       "       [92, 45],\n",
       "       [69, 17],\n",
       "       [35, 32],\n",
       "       [18, 89],\n",
       "       [31, 35],\n",
       "       [84, 36],\n",
       "       [13,  6],\n",
       "       [83, 77],\n",
       "       [81, 72],\n",
       "       [98, 48],\n",
       "       [50, 52],\n",
       "       [79, 78],\n",
       "       [ 9,  2],\n",
       "       [75,  5],\n",
       "       [75,  2],\n",
       "       [98, 85],\n",
       "       [97, 62],\n",
       "       [39, 53],\n",
       "       [32, 22],\n",
       "       [67, 93],\n",
       "       [15, 92],\n",
       "       [43, 77],\n",
       "       [97, 88],\n",
       "       [42,  6],\n",
       "       [49, 84],\n",
       "       [27, 45],\n",
       "       [71,  3],\n",
       "       [94, 74],\n",
       "       [ 5, 85],\n",
       "       [74, 14],\n",
       "       [72, 44],\n",
       "       [44, 71],\n",
       "       [15, 39],\n",
       "       [89, 71],\n",
       "       [89, 92],\n",
       "       [82,  8],\n",
       "       [26, 42],\n",
       "       [94, 72],\n",
       "       [26, 17],\n",
       "       [56, 62],\n",
       "       [16, 95],\n",
       "       [20, 68],\n",
       "       [98, 74],\n",
       "       [77, 98],\n",
       "       [77, 10],\n",
       "       [14, 20]])"
      ]
     },
     "execution_count": 20,
     "metadata": {},
     "output_type": "execute_result"
    }
   ],
   "source": [
    "X2"
   ]
  },
  {
   "cell_type": "code",
   "execution_count": 21,
   "metadata": {},
   "outputs": [],
   "source": [
    "X2 = np.array(X2, dtype=float)"
   ]
  },
  {
   "cell_type": "code",
   "execution_count": 22,
   "metadata": {},
   "outputs": [],
   "source": [
    "X2[:, 0] = (X2[:, 0] - np.mean(X2[:, 0])) / np.std(X2[:, 0])"
   ]
  },
  {
   "cell_type": "code",
   "execution_count": 23,
   "metadata": {},
   "outputs": [],
   "source": [
    "X2[:, 1] = (X2[:, 1] - np.mean(X2[:, 1])) / np.std(X2[:, 1])"
   ]
  },
  {
   "cell_type": "code",
   "execution_count": 24,
   "metadata": {},
   "outputs": [
    {
     "data": {
      "text/plain": [
       "array([[-1.51443534, -0.84828776],\n",
       "       [ 1.222496  , -1.19987651],\n",
       "       [-1.29422247,  0.74984291],\n",
       "       [-1.5773533 , -1.35968958],\n",
       "       [ 1.15957803, -0.14511027],\n",
       "       [ 0.43602147, -1.04006344],\n",
       "       [-0.63358387, -0.56062424],\n",
       "       [-1.16838655,  1.26124473],\n",
       "       [-0.7594198 , -0.4647364 ],\n",
       "       [ 0.90790619, -0.43277379],\n",
       "       [-1.32568145, -1.39165219],\n",
       "       [ 0.87644721,  0.87769336],\n",
       "       [ 0.81352924,  0.7178803 ],\n",
       "       [ 1.34833192, -0.04922242],\n",
       "       [-0.16169916,  0.07862803],\n",
       "       [ 0.75061128,  0.90965598],\n",
       "       [-1.45151738, -1.51950264],\n",
       "       [ 0.62477536, -1.4236148 ],\n",
       "       [ 0.62477536, -1.51950264],\n",
       "       [ 1.34833192,  1.13339427],\n",
       "       [ 1.31687294,  0.39825416],\n",
       "       [-0.50774795,  0.11059064],\n",
       "       [-0.72796082, -0.88025037],\n",
       "       [ 0.37310351,  1.38909518],\n",
       "       [-1.26276349,  1.35713257],\n",
       "       [-0.38191203,  0.87769336],\n",
       "       [ 1.31687294,  1.22928211],\n",
       "       [-0.41337101, -1.39165219],\n",
       "       [-0.19315814,  1.10143166],\n",
       "       [-0.88525572, -0.14511027],\n",
       "       [ 0.49893944, -1.48754003],\n",
       "       [ 1.222496  ,  0.78180552],\n",
       "       [-1.5773533 ,  1.13339427],\n",
       "       [ 0.59331638, -1.13595128],\n",
       "       [ 0.53039842, -0.17707288],\n",
       "       [-0.35045305,  0.68591768],\n",
       "       [-1.26276349, -0.33688595],\n",
       "       [ 1.06520109,  0.68591768],\n",
       "       [ 1.06520109,  1.35713257],\n",
       "       [ 0.84498823, -1.32772696],\n",
       "       [-0.9167147 , -0.24099811],\n",
       "       [ 1.222496  ,  0.7178803 ],\n",
       "       [-0.9167147 , -1.04006344],\n",
       "       [ 0.02705472,  0.39825416],\n",
       "       [-1.23130451,  1.45302041],\n",
       "       [-1.10546859,  0.59002984],\n",
       "       [ 1.34833192,  0.78180552],\n",
       "       [ 0.68769332,  1.54890825],\n",
       "       [ 0.68769332, -1.26380174],\n",
       "       [-1.29422247, -0.9441756 ]])"
      ]
     },
     "execution_count": 24,
     "metadata": {},
     "output_type": "execute_result"
    }
   ],
   "source": [
    "X2"
   ]
  },
  {
   "cell_type": "code",
   "execution_count": 25,
   "metadata": {},
   "outputs": [
    {
     "data": {
      "image/png": "[encoded data removed]",
      "text/plain": [
       "<Figure size 432x288 with 1 Axes>"
      ]
     },
     "metadata": {
      "needs_background": "light"
     },
     "output_type": "display_data"
    }
   ],
   "source": [
    "plt.scatter(X2[:,0], X2[:, 1], color='green')\n",
    "plt.show()"
   ]
  },
  {
   "cell_type": "code",
   "execution_count": 28,
   "metadata": {},
   "outputs": [
    {
     "data": {
      "text/plain": [
       "-1.7763568394002505e-17"
      ]
     },
     "execution_count": 28,
     "metadata": {},
     "output_type": "execute_result"
    }
   ],
   "source": [
    "np.mean(X2[:, 0])"
   ]
  },
  {
   "cell_type": "code",
   "execution_count": 29,
   "metadata": {},
   "outputs": [
    {
     "data": {
      "text/plain": [
       "1.0"
      ]
     },
     "execution_count": 29,
     "metadata": {},
     "output_type": "execute_result"
    }
   ],
   "source": [
    "np.std(X2[:, 0])"
   ]
  },
  {
   "cell_type": "markdown",
   "metadata": {},
   "source": [
    "# scikit-learn中的Scaler"
   ]
  },
  {
   "cell_type": "code",
   "execution_count": 30,
   "metadata": {},
   "outputs": [],
   "source": [
    "import numpy as np\n",
    "from sklearn import datasets"
   ]
  },
  {
   "cell_type": "code",
   "execution_count": 31,
   "metadata": {},
   "outputs": [],
   "source": [
    "iris = datasets.load_iris()"
   ]
  },
  {
   "cell_type": "code",
   "execution_count": 32,
   "metadata": {},
   "outputs": [],
   "source": [
    "X = iris.data\n",
    "y = iris.target"
   ]
  },
  {
   "cell_type": "code",
   "execution_count": 38,
   "metadata": {},
   "outputs": [
    {
     "data": {
      "text/plain": [
       "(150, 4)"
      ]
     },
     "execution_count": 38,
     "metadata": {},
     "output_type": "execute_result"
    }
   ],
   "source": [
    "X.shape"
   ]
  },
  {
   "cell_type": "code",
   "execution_count": 39,
   "metadata": {},
   "outputs": [
    {
     "data": {
      "text/plain": [
       "(150,)"
      ]
     },
     "execution_count": 39,
     "metadata": {},
     "output_type": "execute_result"
    }
   ],
   "source": [
    "y.shape"
   ]
  },
  {
   "cell_type": "code",
   "execution_count": 58,
   "metadata": {},
   "outputs": [],
   "source": [
    "from sklearn.model_selection import train_test_split\n",
    "X_train, X_test, y_train, y_test = train_test_split(X, y, test_size=0.2, random_state=666)"
   ]
  },
  {
   "cell_type": "markdown",
   "metadata": {},
   "source": [
    "# scikit-learn中的StandardScaler"
   ]
  },
  {
   "cell_type": "code",
   "execution_count": 59,
   "metadata": {},
   "outputs": [],
   "source": [
    "from sklearn.preprocessing import StandardScaler"
   ]
  },
  {
   "cell_type": "code",
   "execution_count": 60,
   "metadata": {},
   "outputs": [],
   "source": [
    "sc = StandardScaler()"
   ]
  },
  {
   "cell_type": "code",
   "execution_count": 61,
   "metadata": {},
   "outputs": [
    {
     "data": {
      "text/plain": [
       "StandardScaler()"
      ]
     },
     "execution_count": 61,
     "metadata": {},
     "output_type": "execute_result"
    }
   ],
   "source": [
    "sc.fit(X_train, y_train)"
   ]
  },
  {
   "cell_type": "code",
   "execution_count": 62,
   "metadata": {},
   "outputs": [
    {
     "data": {
      "text/plain": [
       "array([5.83416667, 3.08666667, 3.70833333, 1.17      ])"
      ]
     },
     "execution_count": 62,
     "metadata": {},
     "output_type": "execute_result"
    }
   ],
   "source": [
    "sc.mean_"
   ]
  },
  {
   "cell_type": "code",
   "execution_count": 63,
   "metadata": {},
   "outputs": [
    {
     "data": {
      "text/plain": [
       "array([0.81019502, 0.44327067, 1.76401924, 0.75317107])"
      ]
     },
     "execution_count": 63,
     "metadata": {},
     "output_type": "execute_result"
    }
   ],
   "source": [
    "# sc.std_  已弃用\n",
    "sc.scale_"
   ]
  },
  {
   "cell_type": "code",
   "execution_count": 64,
   "metadata": {},
   "outputs": [
    {
     "data": {
      "text/plain": [
       "array([[-0.90616043,  0.93246262, -1.30856471, -1.28788802],\n",
       "       [-1.15301457, -0.19551636, -1.30856471, -1.28788802],\n",
       "       [-0.16559799, -0.64670795,  0.22203084,  0.17260355],\n",
       "       [ 0.45153738,  0.70686683,  0.95898425,  1.50032315],\n",
       "       [-0.90616043, -1.32349533, -0.40154513, -0.09294037],\n",
       "       [ 1.43895396,  0.25567524,  0.56216318,  0.30537551],\n",
       "       [ 0.3281103 , -1.09789954,  1.0723617 ,  0.30537551],\n",
       "       [ 2.1795164 , -0.19551636,  1.63924894,  1.23477923],\n",
       "       [-0.78273335,  2.2860374 , -1.25187599, -1.42065998],\n",
       "       [ 0.45153738, -2.00028272,  0.44878573,  0.43814747],\n",
       "       [ 1.80923518, -0.42111215,  1.46918276,  0.83646335],\n",
       "       [ 0.69839152,  0.25567524,  0.90229552,  1.50032315],\n",
       "       [ 0.20468323,  0.70686683,  0.44878573,  0.57091943],\n",
       "       [-0.78273335, -0.87230374,  0.10865339,  0.30537551],\n",
       "       [-0.53587921,  1.38365421, -1.25187599, -1.28788802],\n",
       "       [-0.65930628,  1.38365421, -1.25187599, -1.28788802],\n",
       "       [-1.0295875 ,  0.93246262, -1.19518726, -0.75680017],\n",
       "       [-1.77014994, -0.42111215, -1.30856471, -1.28788802],\n",
       "       [-0.04217092, -0.87230374,  0.10865339,  0.03983159],\n",
       "       [-0.78273335,  0.70686683, -1.30856471, -1.28788802],\n",
       "       [-1.52329579,  0.70686683, -1.30856471, -1.15511606],\n",
       "       [ 0.82181859,  0.25567524,  0.78891808,  1.10200727],\n",
       "       [-0.16559799, -0.42111215,  0.27871956,  0.17260355],\n",
       "       [ 0.94524567, -0.19551636,  0.39209701,  0.30537551],\n",
       "       [ 0.20468323, -0.42111215,  0.44878573,  0.43814747],\n",
       "       [-1.39986872,  0.25567524, -1.19518726, -1.28788802],\n",
       "       [-1.15301457,  1.15805842, -1.30856471, -1.42065998],\n",
       "       [ 1.06867274,  0.03007944,  1.0723617 ,  1.63309511],\n",
       "       [ 0.57496445, -0.87230374,  0.67554063,  0.83646335],\n",
       "       [ 0.3281103 , -0.64670795,  0.56216318,  0.03983159],\n",
       "       [ 0.45153738, -0.64670795,  0.6188519 ,  0.83646335],\n",
       "       [-0.16559799,  2.96282478, -1.25187599, -1.0223441 ],\n",
       "       [ 0.57496445, -1.32349533,  0.67554063,  0.43814747],\n",
       "       [ 0.69839152, -0.42111215,  0.33540828,  0.17260355],\n",
       "       [-0.90616043,  1.60925001, -1.02512109, -1.0223441 ],\n",
       "       [ 1.19209981, -0.64670795,  0.6188519 ,  0.30537551],\n",
       "       [-0.90616043,  0.93246262, -1.30856471, -1.15511606],\n",
       "       [-1.89357701, -0.19551636, -1.47863088, -1.42065998],\n",
       "       [ 0.08125616, -0.19551636,  0.78891808,  0.83646335],\n",
       "       [ 0.69839152, -0.64670795,  1.0723617 ,  1.23477923],\n",
       "       [-0.28902506, -0.64670795,  0.67554063,  1.10200727],\n",
       "       [-0.41245214, -1.54909113, -0.00472406, -0.22571233],\n",
       "       [ 1.31552689,  0.03007944,  0.67554063,  0.43814747],\n",
       "       [ 0.57496445,  0.70686683,  1.0723617 ,  1.63309511],\n",
       "       [ 0.82181859, -0.19551636,  1.18573914,  1.36755119],\n",
       "       [-0.16559799,  1.60925001, -1.13849854, -1.15511606],\n",
       "       [ 0.94524567, -0.42111215,  0.50547446,  0.17260355],\n",
       "       [ 1.06867274,  0.48127103,  1.12905042,  1.76586707],\n",
       "       [-1.27644165, -0.19551636, -1.30856471, -1.42065998],\n",
       "       [-1.0295875 ,  1.15805842, -1.30856471, -1.28788802],\n",
       "       [ 0.20468323, -0.19551636,  0.6188519 ,  0.83646335],\n",
       "       [-1.0295875 , -0.19551636, -1.19518726, -1.28788802],\n",
       "       [ 0.3281103 , -0.19551636,  0.67554063,  0.83646335],\n",
       "       [ 0.69839152,  0.03007944,  1.01567297,  0.83646335],\n",
       "       [-0.90616043,  1.38365421, -1.25187599, -1.0223441 ],\n",
       "       [-0.16559799, -0.19551636,  0.27871956,  0.03983159],\n",
       "       [-1.0295875 ,  0.93246262, -1.36525344, -1.15511606],\n",
       "       [-0.90616043,  1.60925001, -1.25187599, -1.15511606],\n",
       "       [-1.52329579,  0.25567524, -1.30856471, -1.28788802],\n",
       "       [-0.53587921, -0.19551636,  0.44878573,  0.43814747],\n",
       "       [ 0.82181859, -0.64670795,  0.50547446,  0.43814747],\n",
       "       [ 0.3281103 , -0.64670795,  0.16534211,  0.17260355],\n",
       "       [-1.27644165,  0.70686683, -1.19518726, -1.28788802],\n",
       "       [-0.90616043,  0.48127103, -1.13849854, -0.88957213],\n",
       "       [-0.04217092, -0.87230374,  0.78891808,  0.96923531],\n",
       "       [-0.28902506, -0.19551636,  0.22203084,  0.17260355],\n",
       "       [ 0.57496445, -0.64670795,  0.78891808,  0.43814747],\n",
       "       [ 1.06867274,  0.48127103,  1.12905042,  1.23477923],\n",
       "       [ 1.68580811, -0.19551636,  1.18573914,  0.57091943],\n",
       "       [ 1.06867274, -0.19551636,  0.8456068 ,  1.50032315],\n",
       "       [-1.15301457,  0.03007944, -1.25187599, -1.42065998],\n",
       "       [-1.15301457, -1.32349533,  0.44878573,  0.70369139],\n",
       "       [-0.16559799, -1.32349533,  0.73222935,  1.10200727],\n",
       "       [-1.15301457, -1.54909113, -0.23147896, -0.22571233],\n",
       "       [-0.41245214, -1.54909113,  0.05196466, -0.09294037],\n",
       "       [ 1.06867274, -1.32349533,  1.18573914,  0.83646335],\n",
       "       [ 0.82181859, -0.19551636,  1.01567297,  0.83646335],\n",
       "       [-0.16559799, -1.09789954, -0.11810151, -0.22571233],\n",
       "       [ 0.20468323, -2.00028272,  0.73222935,  0.43814747],\n",
       "       [ 1.06867274,  0.03007944,  0.56216318,  0.43814747],\n",
       "       [-1.15301457,  0.03007944, -1.25187599, -1.28788802],\n",
       "       [ 0.57496445, -1.32349533,  0.73222935,  0.96923531],\n",
       "       [-1.39986872,  0.25567524, -1.36525344, -1.28788802],\n",
       "       [ 0.20468323, -0.87230374,  0.78891808,  0.57091943],\n",
       "       [-0.04217092, -1.09789954,  0.16534211,  0.03983159],\n",
       "       [ 1.31552689,  0.25567524,  1.12905042,  1.50032315],\n",
       "       [-1.77014994, -0.19551636, -1.36525344, -1.28788802],\n",
       "       [ 1.56238103, -0.19551636,  1.24242787,  1.23477923],\n",
       "       [ 1.19209981,  0.25567524,  1.24242787,  1.50032315],\n",
       "       [-0.78273335,  0.93246262, -1.25187599, -1.28788802],\n",
       "       [ 2.54979762,  1.60925001,  1.52587149,  1.10200727],\n",
       "       [ 0.69839152, -0.64670795,  1.0723617 ,  1.36755119],\n",
       "       [-0.28902506, -0.42111215, -0.06141278,  0.17260355],\n",
       "       [-0.41245214,  2.51163319, -1.30856471, -1.28788802],\n",
       "       [-1.27644165, -0.19551636, -1.30856471, -1.15511606],\n",
       "       [ 0.57496445, -0.42111215,  1.0723617 ,  0.83646335],\n",
       "       [-1.77014994,  0.25567524, -1.36525344, -1.28788802],\n",
       "       [-0.53587921,  1.8348458 , -1.13849854, -1.0223441 ],\n",
       "       [-1.0295875 ,  0.70686683, -1.19518726, -1.0223441 ],\n",
       "       [ 1.06867274, -0.19551636,  0.73222935,  0.70369139],\n",
       "       [-0.53587921,  1.8348458 , -1.36525344, -1.0223441 ],\n",
       "       [ 2.30294347, -0.64670795,  1.69593766,  1.10200727],\n",
       "       [-0.28902506, -0.87230374,  0.27871956,  0.17260355],\n",
       "       [ 1.19209981, -0.19551636,  1.01567297,  1.23477923],\n",
       "       [-0.41245214,  0.93246262, -1.36525344, -1.28788802],\n",
       "       [-1.27644165,  0.70686683, -1.02512109, -1.28788802],\n",
       "       [-0.53587921,  0.70686683, -1.13849854, -1.28788802],\n",
       "       [ 2.30294347,  1.60925001,  1.69593766,  1.36755119],\n",
       "       [ 1.31552689,  0.03007944,  0.95898425,  1.23477923],\n",
       "       [-0.28902506, -1.32349533,  0.10865339, -0.09294037],\n",
       "       [-0.90616043,  0.70686683, -1.25187599, -1.28788802],\n",
       "       [-0.90616043,  1.60925001, -1.19518726, -1.28788802],\n",
       "       [ 0.3281103 , -0.42111215,  0.56216318,  0.30537551],\n",
       "       [-0.04217092,  2.0604416 , -1.42194216, -1.28788802],\n",
       "       [-1.0295875 , -2.45147431, -0.11810151, -0.22571233],\n",
       "       [ 0.69839152,  0.25567524,  0.44878573,  0.43814747],\n",
       "       [ 0.3281103 , -0.19551636,  0.50547446,  0.30537551],\n",
       "       [ 0.08125616,  0.25567524,  0.6188519 ,  0.83646335],\n",
       "       [ 0.20468323, -2.00028272,  0.16534211, -0.22571233],\n",
       "       [ 1.93266225, -0.64670795,  1.35580532,  0.96923531]])"
      ]
     },
     "execution_count": 64,
     "metadata": {},
     "output_type": "execute_result"
    }
   ],
   "source": [
    "sc.transform(X_train)"
   ]
  },
  {
   "cell_type": "code",
   "execution_count": 65,
   "metadata": {},
   "outputs": [
    {
     "data": {
      "text/plain": [
       "array([[5.1, 3.5, 1.4, 0.2],\n",
       "       [4.9, 3. , 1.4, 0.2],\n",
       "       [5.7, 2.8, 4.1, 1.3],\n",
       "       [6.2, 3.4, 5.4, 2.3],\n",
       "       [5.1, 2.5, 3. , 1.1],\n",
       "       [7. , 3.2, 4.7, 1.4],\n",
       "       [6.1, 2.6, 5.6, 1.4],\n",
       "       [7.6, 3. , 6.6, 2.1],\n",
       "       [5.2, 4.1, 1.5, 0.1],\n",
       "       [6.2, 2.2, 4.5, 1.5],\n",
       "       [7.3, 2.9, 6.3, 1.8],\n",
       "       [6.4, 3.2, 5.3, 2.3],\n",
       "       [6. , 3.4, 4.5, 1.6],\n",
       "       [5.2, 2.7, 3.9, 1.4],\n",
       "       [5.4, 3.7, 1.5, 0.2],\n",
       "       [5.3, 3.7, 1.5, 0.2],\n",
       "       [5. , 3.5, 1.6, 0.6],\n",
       "       [4.4, 2.9, 1.4, 0.2],\n",
       "       [5.8, 2.7, 3.9, 1.2],\n",
       "       [5.2, 3.4, 1.4, 0.2],\n",
       "       [4.6, 3.4, 1.4, 0.3],\n",
       "       [6.5, 3.2, 5.1, 2. ],\n",
       "       [5.7, 2.9, 4.2, 1.3],\n",
       "       [6.6, 3. , 4.4, 1.4],\n",
       "       [6. , 2.9, 4.5, 1.5],\n",
       "       [4.7, 3.2, 1.6, 0.2],\n",
       "       [4.9, 3.6, 1.4, 0.1],\n",
       "       [6.7, 3.1, 5.6, 2.4],\n",
       "       [6.3, 2.7, 4.9, 1.8],\n",
       "       [6.1, 2.8, 4.7, 1.2],\n",
       "       [6.2, 2.8, 4.8, 1.8],\n",
       "       [5.7, 4.4, 1.5, 0.4],\n",
       "       [6.3, 2.5, 4.9, 1.5],\n",
       "       [6.4, 2.9, 4.3, 1.3],\n",
       "       [5.1, 3.8, 1.9, 0.4],\n",
       "       [6.8, 2.8, 4.8, 1.4],\n",
       "       [5.1, 3.5, 1.4, 0.3],\n",
       "       [4.3, 3. , 1.1, 0.1],\n",
       "       [5.9, 3. , 5.1, 1.8],\n",
       "       [6.4, 2.8, 5.6, 2.1],\n",
       "       [5.6, 2.8, 4.9, 2. ],\n",
       "       [5.5, 2.4, 3.7, 1. ],\n",
       "       [6.9, 3.1, 4.9, 1.5],\n",
       "       [6.3, 3.4, 5.6, 2.4],\n",
       "       [6.5, 3. , 5.8, 2.2],\n",
       "       [5.7, 3.8, 1.7, 0.3],\n",
       "       [6.6, 2.9, 4.6, 1.3],\n",
       "       [6.7, 3.3, 5.7, 2.5],\n",
       "       [4.8, 3. , 1.4, 0.1],\n",
       "       [5. , 3.6, 1.4, 0.2],\n",
       "       [6. , 3. , 4.8, 1.8],\n",
       "       [5. , 3. , 1.6, 0.2],\n",
       "       [6.1, 3. , 4.9, 1.8],\n",
       "       [6.4, 3.1, 5.5, 1.8],\n",
       "       [5.1, 3.7, 1.5, 0.4],\n",
       "       [5.7, 3. , 4.2, 1.2],\n",
       "       [5. , 3.5, 1.3, 0.3],\n",
       "       [5.1, 3.8, 1.5, 0.3],\n",
       "       [4.6, 3.2, 1.4, 0.2],\n",
       "       [5.4, 3. , 4.5, 1.5],\n",
       "       [6.5, 2.8, 4.6, 1.5],\n",
       "       [6.1, 2.8, 4. , 1.3],\n",
       "       [4.8, 3.4, 1.6, 0.2],\n",
       "       [5.1, 3.3, 1.7, 0.5],\n",
       "       [5.8, 2.7, 5.1, 1.9],\n",
       "       [5.6, 3. , 4.1, 1.3],\n",
       "       [6.3, 2.8, 5.1, 1.5],\n",
       "       [6.7, 3.3, 5.7, 2.1],\n",
       "       [7.2, 3. , 5.8, 1.6],\n",
       "       [6.7, 3. , 5.2, 2.3],\n",
       "       [4.9, 3.1, 1.5, 0.1],\n",
       "       [4.9, 2.5, 4.5, 1.7],\n",
       "       [5.7, 2.5, 5. , 2. ],\n",
       "       [4.9, 2.4, 3.3, 1. ],\n",
       "       [5.5, 2.4, 3.8, 1.1],\n",
       "       [6.7, 2.5, 5.8, 1.8],\n",
       "       [6.5, 3. , 5.5, 1.8],\n",
       "       [5.7, 2.6, 3.5, 1. ],\n",
       "       [6. , 2.2, 5. , 1.5],\n",
       "       [6.7, 3.1, 4.7, 1.5],\n",
       "       [4.9, 3.1, 1.5, 0.2],\n",
       "       [6.3, 2.5, 5. , 1.9],\n",
       "       [4.7, 3.2, 1.3, 0.2],\n",
       "       [6. , 2.7, 5.1, 1.6],\n",
       "       [5.8, 2.6, 4. , 1.2],\n",
       "       [6.9, 3.2, 5.7, 2.3],\n",
       "       [4.4, 3. , 1.3, 0.2],\n",
       "       [7.1, 3. , 5.9, 2.1],\n",
       "       [6.8, 3.2, 5.9, 2.3],\n",
       "       [5.2, 3.5, 1.5, 0.2],\n",
       "       [7.9, 3.8, 6.4, 2. ],\n",
       "       [6.4, 2.8, 5.6, 2.2],\n",
       "       [5.6, 2.9, 3.6, 1.3],\n",
       "       [5.5, 4.2, 1.4, 0.2],\n",
       "       [4.8, 3. , 1.4, 0.3],\n",
       "       [6.3, 2.9, 5.6, 1.8],\n",
       "       [4.4, 3.2, 1.3, 0.2],\n",
       "       [5.4, 3.9, 1.7, 0.4],\n",
       "       [5. , 3.4, 1.6, 0.4],\n",
       "       [6.7, 3. , 5. , 1.7],\n",
       "       [5.4, 3.9, 1.3, 0.4],\n",
       "       [7.7, 2.8, 6.7, 2. ],\n",
       "       [5.6, 2.7, 4.2, 1.3],\n",
       "       [6.8, 3. , 5.5, 2.1],\n",
       "       [5.5, 3.5, 1.3, 0.2],\n",
       "       [4.8, 3.4, 1.9, 0.2],\n",
       "       [5.4, 3.4, 1.7, 0.2],\n",
       "       [7.7, 3.8, 6.7, 2.2],\n",
       "       [6.9, 3.1, 5.4, 2.1],\n",
       "       [5.6, 2.5, 3.9, 1.1],\n",
       "       [5.1, 3.4, 1.5, 0.2],\n",
       "       [5.1, 3.8, 1.6, 0.2],\n",
       "       [6.1, 2.9, 4.7, 1.4],\n",
       "       [5.8, 4. , 1.2, 0.2],\n",
       "       [5. , 2. , 3.5, 1. ],\n",
       "       [6.4, 3.2, 4.5, 1.5],\n",
       "       [6.1, 3. , 4.6, 1.4],\n",
       "       [5.9, 3.2, 4.8, 1.8],\n",
       "       [6. , 2.2, 4. , 1. ],\n",
       "       [7.4, 2.8, 6.1, 1.9]])"
      ]
     },
     "execution_count": 65,
     "metadata": {},
     "output_type": "execute_result"
    }
   ],
   "source": [
    "X_train"
   ]
  },
  {
   "cell_type": "code",
   "execution_count": 66,
   "metadata": {},
   "outputs": [],
   "source": [
    "X_train_standard = sc.transform(X_train)"
   ]
  },
  {
   "cell_type": "code",
   "execution_count": 67,
   "metadata": {},
   "outputs": [
    {
     "data": {
      "text/plain": [
       "array([[-0.90616043,  0.93246262, -1.30856471, -1.28788802],\n",
       "       [-1.15301457, -0.19551636, -1.30856471, -1.28788802],\n",
       "       [-0.16559799, -0.64670795,  0.22203084,  0.17260355],\n",
       "       [ 0.45153738,  0.70686683,  0.95898425,  1.50032315],\n",
       "       [-0.90616043, -1.32349533, -0.40154513, -0.09294037],\n",
       "       [ 1.43895396,  0.25567524,  0.56216318,  0.30537551],\n",
       "       [ 0.3281103 , -1.09789954,  1.0723617 ,  0.30537551],\n",
       "       [ 2.1795164 , -0.19551636,  1.63924894,  1.23477923],\n",
       "       [-0.78273335,  2.2860374 , -1.25187599, -1.42065998],\n",
       "       [ 0.45153738, -2.00028272,  0.44878573,  0.43814747],\n",
       "       [ 1.80923518, -0.42111215,  1.46918276,  0.83646335],\n",
       "       [ 0.69839152,  0.25567524,  0.90229552,  1.50032315],\n",
       "       [ 0.20468323,  0.70686683,  0.44878573,  0.57091943],\n",
       "       [-0.78273335, -0.87230374,  0.10865339,  0.30537551],\n",
       "       [-0.53587921,  1.38365421, -1.25187599, -1.28788802],\n",
       "       [-0.65930628,  1.38365421, -1.25187599, -1.28788802],\n",
       "       [-1.0295875 ,  0.93246262, -1.19518726, -0.75680017],\n",
       "       [-1.77014994, -0.42111215, -1.30856471, -1.28788802],\n",
       "       [-0.04217092, -0.87230374,  0.10865339,  0.03983159],\n",
       "       [-0.78273335,  0.70686683, -1.30856471, -1.28788802],\n",
       "       [-1.52329579,  0.70686683, -1.30856471, -1.15511606],\n",
       "       [ 0.82181859,  0.25567524,  0.78891808,  1.10200727],\n",
       "       [-0.16559799, -0.42111215,  0.27871956,  0.17260355],\n",
       "       [ 0.94524567, -0.19551636,  0.39209701,  0.30537551],\n",
       "       [ 0.20468323, -0.42111215,  0.44878573,  0.43814747],\n",
       "       [-1.39986872,  0.25567524, -1.19518726, -1.28788802],\n",
       "       [-1.15301457,  1.15805842, -1.30856471, -1.42065998],\n",
       "       [ 1.06867274,  0.03007944,  1.0723617 ,  1.63309511],\n",
       "       [ 0.57496445, -0.87230374,  0.67554063,  0.83646335],\n",
       "       [ 0.3281103 , -0.64670795,  0.56216318,  0.03983159],\n",
       "       [ 0.45153738, -0.64670795,  0.6188519 ,  0.83646335],\n",
       "       [-0.16559799,  2.96282478, -1.25187599, -1.0223441 ],\n",
       "       [ 0.57496445, -1.32349533,  0.67554063,  0.43814747],\n",
       "       [ 0.69839152, -0.42111215,  0.33540828,  0.17260355],\n",
       "       [-0.90616043,  1.60925001, -1.02512109, -1.0223441 ],\n",
       "       [ 1.19209981, -0.64670795,  0.6188519 ,  0.30537551],\n",
       "       [-0.90616043,  0.93246262, -1.30856471, -1.15511606],\n",
       "       [-1.89357701, -0.19551636, -1.47863088, -1.42065998],\n",
       "       [ 0.08125616, -0.19551636,  0.78891808,  0.83646335],\n",
       "       [ 0.69839152, -0.64670795,  1.0723617 ,  1.23477923],\n",
       "       [-0.28902506, -0.64670795,  0.67554063,  1.10200727],\n",
       "       [-0.41245214, -1.54909113, -0.00472406, -0.22571233],\n",
       "       [ 1.31552689,  0.03007944,  0.67554063,  0.43814747],\n",
       "       [ 0.57496445,  0.70686683,  1.0723617 ,  1.63309511],\n",
       "       [ 0.82181859, -0.19551636,  1.18573914,  1.36755119],\n",
       "       [-0.16559799,  1.60925001, -1.13849854, -1.15511606],\n",
       "       [ 0.94524567, -0.42111215,  0.50547446,  0.17260355],\n",
       "       [ 1.06867274,  0.48127103,  1.12905042,  1.76586707],\n",
       "       [-1.27644165, -0.19551636, -1.30856471, -1.42065998],\n",
       "       [-1.0295875 ,  1.15805842, -1.30856471, -1.28788802],\n",
       "       [ 0.20468323, -0.19551636,  0.6188519 ,  0.83646335],\n",
       "       [-1.0295875 , -0.19551636, -1.19518726, -1.28788802],\n",
       "       [ 0.3281103 , -0.19551636,  0.67554063,  0.83646335],\n",
       "       [ 0.69839152,  0.03007944,  1.01567297,  0.83646335],\n",
       "       [-0.90616043,  1.38365421, -1.25187599, -1.0223441 ],\n",
       "       [-0.16559799, -0.19551636,  0.27871956,  0.03983159],\n",
       "       [-1.0295875 ,  0.93246262, -1.36525344, -1.15511606],\n",
       "       [-0.90616043,  1.60925001, -1.25187599, -1.15511606],\n",
       "       [-1.52329579,  0.25567524, -1.30856471, -1.28788802],\n",
       "       [-0.53587921, -0.19551636,  0.44878573,  0.43814747],\n",
       "       [ 0.82181859, -0.64670795,  0.50547446,  0.43814747],\n",
       "       [ 0.3281103 , -0.64670795,  0.16534211,  0.17260355],\n",
       "       [-1.27644165,  0.70686683, -1.19518726, -1.28788802],\n",
       "       [-0.90616043,  0.48127103, -1.13849854, -0.88957213],\n",
       "       [-0.04217092, -0.87230374,  0.78891808,  0.96923531],\n",
       "       [-0.28902506, -0.19551636,  0.22203084,  0.17260355],\n",
       "       [ 0.57496445, -0.64670795,  0.78891808,  0.43814747],\n",
       "       [ 1.06867274,  0.48127103,  1.12905042,  1.23477923],\n",
       "       [ 1.68580811, -0.19551636,  1.18573914,  0.57091943],\n",
       "       [ 1.06867274, -0.19551636,  0.8456068 ,  1.50032315],\n",
       "       [-1.15301457,  0.03007944, -1.25187599, -1.42065998],\n",
       "       [-1.15301457, -1.32349533,  0.44878573,  0.70369139],\n",
       "       [-0.16559799, -1.32349533,  0.73222935,  1.10200727],\n",
       "       [-1.15301457, -1.54909113, -0.23147896, -0.22571233],\n",
       "       [-0.41245214, -1.54909113,  0.05196466, -0.09294037],\n",
       "       [ 1.06867274, -1.32349533,  1.18573914,  0.83646335],\n",
       "       [ 0.82181859, -0.19551636,  1.01567297,  0.83646335],\n",
       "       [-0.16559799, -1.09789954, -0.11810151, -0.22571233],\n",
       "       [ 0.20468323, -2.00028272,  0.73222935,  0.43814747],\n",
       "       [ 1.06867274,  0.03007944,  0.56216318,  0.43814747],\n",
       "       [-1.15301457,  0.03007944, -1.25187599, -1.28788802],\n",
       "       [ 0.57496445, -1.32349533,  0.73222935,  0.96923531],\n",
       "       [-1.39986872,  0.25567524, -1.36525344, -1.28788802],\n",
       "       [ 0.20468323, -0.87230374,  0.78891808,  0.57091943],\n",
       "       [-0.04217092, -1.09789954,  0.16534211,  0.03983159],\n",
       "       [ 1.31552689,  0.25567524,  1.12905042,  1.50032315],\n",
       "       [-1.77014994, -0.19551636, -1.36525344, -1.28788802],\n",
       "       [ 1.56238103, -0.19551636,  1.24242787,  1.23477923],\n",
       "       [ 1.19209981,  0.25567524,  1.24242787,  1.50032315],\n",
       "       [-0.78273335,  0.93246262, -1.25187599, -1.28788802],\n",
       "       [ 2.54979762,  1.60925001,  1.52587149,  1.10200727],\n",
       "       [ 0.69839152, -0.64670795,  1.0723617 ,  1.36755119],\n",
       "       [-0.28902506, -0.42111215, -0.06141278,  0.17260355],\n",
       "       [-0.41245214,  2.51163319, -1.30856471, -1.28788802],\n",
       "       [-1.27644165, -0.19551636, -1.30856471, -1.15511606],\n",
       "       [ 0.57496445, -0.42111215,  1.0723617 ,  0.83646335],\n",
       "       [-1.77014994,  0.25567524, -1.36525344, -1.28788802],\n",
       "       [-0.53587921,  1.8348458 , -1.13849854, -1.0223441 ],\n",
       "       [-1.0295875 ,  0.70686683, -1.19518726, -1.0223441 ],\n",
       "       [ 1.06867274, -0.19551636,  0.73222935,  0.70369139],\n",
       "       [-0.53587921,  1.8348458 , -1.36525344, -1.0223441 ],\n",
       "       [ 2.30294347, -0.64670795,  1.69593766,  1.10200727],\n",
       "       [-0.28902506, -0.87230374,  0.27871956,  0.17260355],\n",
       "       [ 1.19209981, -0.19551636,  1.01567297,  1.23477923],\n",
       "       [-0.41245214,  0.93246262, -1.36525344, -1.28788802],\n",
       "       [-1.27644165,  0.70686683, -1.02512109, -1.28788802],\n",
       "       [-0.53587921,  0.70686683, -1.13849854, -1.28788802],\n",
       "       [ 2.30294347,  1.60925001,  1.69593766,  1.36755119],\n",
       "       [ 1.31552689,  0.03007944,  0.95898425,  1.23477923],\n",
       "       [-0.28902506, -1.32349533,  0.10865339, -0.09294037],\n",
       "       [-0.90616043,  0.70686683, -1.25187599, -1.28788802],\n",
       "       [-0.90616043,  1.60925001, -1.19518726, -1.28788802],\n",
       "       [ 0.3281103 , -0.42111215,  0.56216318,  0.30537551],\n",
       "       [-0.04217092,  2.0604416 , -1.42194216, -1.28788802],\n",
       "       [-1.0295875 , -2.45147431, -0.11810151, -0.22571233],\n",
       "       [ 0.69839152,  0.25567524,  0.44878573,  0.43814747],\n",
       "       [ 0.3281103 , -0.19551636,  0.50547446,  0.30537551],\n",
       "       [ 0.08125616,  0.25567524,  0.6188519 ,  0.83646335],\n",
       "       [ 0.20468323, -2.00028272,  0.16534211, -0.22571233],\n",
       "       [ 1.93266225, -0.64670795,  1.35580532,  0.96923531]])"
      ]
     },
     "execution_count": 67,
     "metadata": {},
     "output_type": "execute_result"
    }
   ],
   "source": [
    "X_train_standard"
   ]
  },
  {
   "cell_type": "code",
   "execution_count": 68,
   "metadata": {},
   "outputs": [],
   "source": [
    "X_test_standard = sc.transform(X_test)"
   ]
  },
  {
   "cell_type": "code",
   "execution_count": 69,
   "metadata": {},
   "outputs": [
    {
     "data": {
      "text/plain": [
       "1.0"
      ]
     },
     "execution_count": 69,
     "metadata": {},
     "output_type": "execute_result"
    }
   ],
   "source": [
    "from sklearn.neighbors import KNeighborsClassifier\n",
    "knn_clf = KNeighborsClassifier(n_neighbors=3)\n",
    "knn_clf.fit(X_train_standard, y_train)\n",
    "knn_clf.score(X_test_standard, y_test)"
   ]
  },
  {
   "cell_type": "code",
   "execution_count": null,
   "metadata": {},
   "outputs": [],
   "source": []
  }
 ],
 "metadata": {
  "kernelspec": {
   "display_name": "Python 3",
   "language": "python",
   "name": "python3"
  },
  "language_info": {
   "codemirror_mode": {
    "name": "ipython",
    "version": 3
   },
   "file_extension": ".py",
   "mimetype": "text/x-python",
   "name": "python",
   "nbconvert_exporter": "python",
   "pygments_lexer": "ipython3",
   "version": "3.6.12"
  }
 },
 "nbformat": 4,
 "nbformat_minor": 4
}
